{
 "cells": [
  {
   "cell_type": "code",
   "execution_count": 2,
   "metadata": {},
   "outputs": [],
   "source": [
    "import re"
   ]
  },
  {
   "cell_type": "code",
   "execution_count": 7,
   "metadata": {},
   "outputs": [
    {
     "name": "stdout",
     "output_type": "stream",
     "text": [
      "{'Jake': '53', 'Josh': '32', 'Price': '15', 'Ken': '17'}\n"
     ]
    }
   ],
   "source": [
    "s = '''\n",
    "Jake is 53 and Josh is 32\n",
    "Price is 15 and Ken is 17\n",
    "'''\n",
    "age = re.findall(r'\\d{1,3}',s)\n",
    "name = re.findall(r'[A-Z][a-z]*',s)\n",
    "na = {}\n",
    "x = 0\n",
    "for n in name:\n",
    "    na[n] = age[x]\n",
    "    x+=1\n",
    "print(na)"
   ]
  },
  {
   "cell_type": "code",
   "execution_count": 11,
   "metadata": {},
   "outputs": [
    {
     "name": "stdout",
     "output_type": "stream",
     "text": [
      "(11, 17)\n",
      "(38, 44)\n",
      "['inform', 'inform']\n"
     ]
    }
   ],
   "source": [
    "s = \"we need to inform him with the latest information\"\n",
    "for i in re.finditer(\"inform\",s):\n",
    "    print(i.span())\n",
    "inf = re.findall(\"inform\",s)\n",
    "print(inf)"
   ]
  },
  {
   "cell_type": "code",
   "execution_count": 16,
   "metadata": {},
   "outputs": [
    {
     "name": "stdout",
     "output_type": "stream",
     "text": [
      "['door']\n"
     ]
    }
   ],
   "source": [
    " s = \"sat, car, hat, door, mat, pat\"\n",
    "at = re.findall('[a-z]*or',s)\n",
    "print(at)"
   ]
  },
  {
   "cell_type": "code",
   "execution_count": 34,
   "metadata": {},
   "outputs": [
    {
     "name": "stdout",
     "output_type": "stream",
     "text": [
      "Matches: 3\n",
      "['12345', '123456', '1234567']\n"
     ]
    }
   ],
   "source": [
    "s = \"123 1234 12345 123456 1234567\"\n",
    "print(\"Matches:\",len(re.findall(\"\\d{5,6}\",s)))\n",
    "num = re.findall(\"\\d{5,7}\",s)\n",
    "print(num)"
   ]
  },
  {
   "cell_type": "code",
   "execution_count": 36,
   "metadata": {},
   "outputs": [
    {
     "name": "stdout",
     "output_type": "stream",
     "text": [
      "['444-122-1234', '123-122-7899']\n"
     ]
    }
   ],
   "source": [
    "s = '''\n",
    "444-122-1234\n",
    "123-122-78999\n",
    "111-123-23\n",
    "67-7890-2019\n",
    "'''\n",
    "verify = re.findall(\"\\d{3}-\\d{3}-\\d{4}\",s)\n",
    "print(verify)"
   ]
  },
  {
   "cell_type": "code",
   "execution_count": 42,
   "metadata": {},
   "outputs": [
    {
     "name": "stdout",
     "output_type": "stream",
     "text": [
      "['Saurabh+@gmail.com']\n"
     ]
    }
   ],
   "source": [
    "s = '''\n",
    "Saurabh+@gmail.com\n",
    "Reyshma@com\n",
    "Kv.com\n",
    "123@.com\n",
    "'''\n",
    "email = re.findall(\"\\w[A-Za-z._%+-]{1,20}@\\w[A-Za-z0-9]{2,20}.\\w[A-Za-z]{2,3}\",s)\n",
    "print(email)"
   ]
  },
  {
   "cell_type": "code",
   "execution_count": 49,
   "metadata": {},
   "outputs": [
    {
     "name": "stdout",
     "output_type": "stream",
     "text": [
      "[]\n"
     ]
    }
   ],
   "source": [
    "s = '''\n",
    "(123) 111-2525\n",
    "(245) 121-7845\n",
    "(47) 142-7584\n",
    "(8455) 46-8576\n",
    "'''\n",
    "numb = re.findall(\"\\(\\d{3}\\)\\d{3}-\\d{4}\",s)\n",
    "print(numb)"
   ]
  },
  {
   "cell_type": "code",
   "execution_count": 54,
   "metadata": {},
   "outputs": [
    {
     "name": "stdout",
     "output_type": "stream",
     "text": [
      "['>Venues', '>Marketing', '>medalists', '>Controversies', '>Paralympics', '>snowboarding', '>Netherlands', '>Norway', '>References', '>edit', '>Norway', '>Germany', '>Canada', '>Netherlands', '>Japan', '>Italy', '>Belarus', '>China', '>Slovakia', '>Slovenia', '>Belgium', '>Spain', '>Kazakhstan', '>1964', '>1968', '>1972', '>1992', '>1996', '>2000']\n"
     ]
    }
   ],
   "source": [
    "s =\"\"\"\n",
    ">Venues\n",
    ">Marketing\n",
    ">medalists\n",
    ">Controversies\n",
    ">Paralympics\n",
    ">snowboarding\n",
    ">[1]\n",
    ">Netherlands\n",
    ">[2]\n",
    ">Norway\n",
    ">[10]\n",
    ">[11]\n",
    ">References\n",
    ">edit\n",
    ">[12]\n",
    ">Norway\n",
    ">Germany\n",
    ">Canada\n",
    ">Netherlands\n",
    ">Japan\n",
    ">Italy\n",
    ">Belarus\n",
    ">China\n",
    ">Slovakia\n",
    "<$#%#$%\n",
    "<#$#$$\n",
    "<**&&^^\n",
    ">Slovenia\n",
    ">Belgium\n",
    ">Spain\n",
    ">Kazakhstan\n",
    ">[15]\n",
    ">1964\n",
    ">1968\n",
    ">1972\n",
    ">1992\n",
    ">1996\n",
    ">2000\"\"\" \n",
    "data = re.findall(\">\\w[A-Za-z0-9]*\",s)\n",
    "print(data)"
   ]
  },
  {
   "cell_type": "code",
   "execution_count": 58,
   "metadata": {},
   "outputs": [
    {
     "name": "stdout",
     "output_type": "stream",
     "text": [
      "['franky@google.com', 'sinatra123@yahoo.com']\n"
     ]
    }
   ],
   "source": [
    "s = \"The advancements in biomarine studies franky@google.com with the investments necessary and Davos sinatra123@yahoo.com Then The New Yorker article on wind farms...\"\n",
    "emails = re.findall(\"\\w[A-Za-z0-9]{1,20}@\\w[A-Za-z0-9]{1,20}.\\w[a-z0-9]{2,3}\",s)\n",
    "print(emails)"
   ]
  },
  {
   "cell_type": "code",
   "execution_count": 66,
   "metadata": {},
   "outputs": [
    {
     "name": "stdout",
     "output_type": "stream",
     "text": [
      "['franky@', 'sinatra123@']\n"
     ]
    }
   ],
   "source": [
    "s = \"The advancements in biomarine studies franky@google.com with the investments necessary and Davos sinatra123@yahoo.com Then The New Yorker article on wind farms...\"\n",
    "emails = re.findall(\"\\w[A-Za-z0-9]{1,20}@\",s)\n",
    "print(emails)"
   ]
  },
  {
   "cell_type": "code",
   "execution_count": 15,
   "metadata": {},
   "outputs": [
    {
     "name": "stdout",
     "output_type": "stream",
     "text": [
      "['franky', 'sinatra123']\n"
     ]
    }
   ],
   "source": [
    "s = \"The advancements in biomarine studies franky@google.com with the investments necessary and Davos sinatra123@yahoo.com Then The New Yorker article on wind farms...\"\n",
    "emails = re.findall(\"(\\w*)@\",s)\n",
    "print(emails)"
   ]
  },
  {
   "cell_type": "code",
   "execution_count": 84,
   "metadata": {},
   "outputs": [
    {
     "name": "stdout",
     "output_type": "stream",
     "text": [
      "['empourpr', 'palmiers']\n"
     ]
    }
   ],
   "source": [
    "s = \"\"\"\n",
    "Au pays parfume que le soleil caresse,\n",
    "J'ai connu, sous un dais d'arbes tout empourpres\n",
    "Et de palmiers d'ou pleut sur les yeux la paresse,\n",
    "Une dame creole aux charmes ignore.\n",
    "\"\"\"\n",
    "ans = re.findall(\"\\w[A-Za-z]{7}\",s)\n",
    "print(ans)"
   ]
  },
  {
   "cell_type": "code",
   "execution_count": 95,
   "metadata": {},
   "outputs": [
    {
     "name": "stdout",
     "output_type": "stream",
     "text": [
      "['TSLA', 'ORCL', 'GE', 'MSFT', 'BIDU']\n"
     ]
    }
   ],
   "source": [
    "s = \"\"\"Some of the prices were as following TSLA:749.50, ORCL: 50.50, GE: 10.90, MSFT: 170.50, BIDU: 121.40. As the macroeconomic developments continue we will update the prices.\"\"\"\n",
    "ans = re.findall('\\w[A-Z]{1,3}',s)\n",
    "print(ans)"
   ]
  },
  {
   "cell_type": "code",
   "execution_count": 25,
   "metadata": {},
   "outputs": [
    {
     "name": "stdout",
     "output_type": "stream",
     "text": [
      "['video', 'center', 'button']\n"
     ]
    }
   ],
   "source": [
    "s = \"\"\"\n",
    "<div class = \"tut-list tut-list-new tut-row\">\n",
    "<div class = \"tut-list-primary\"><div class = \"tut-vote\">\n",
    "<video>intro</video>\n",
    "<span class = \"count\">50</span><span class = \"tut-upvotes-text hidden\">Upvotes</span></a></div>\n",
    "<center>k = \"11\" rel = \"no follow\"></center>\n",
    "<span class = \"tutorial-title-txt\">Automate the Boring Stuff with Python</span>\n",
    "<span class = \"tut-title-link\"> <span class = \"js-tutorial\" data-id = \"3529\"\n",
    "title = \"automate the Boring Stuff with Python\" target = \"_blank\">(udemy.com)</span>\n",
    "</span></a></div><div class = \"action-footer\">\n",
    "<form class = \"save-tutorial-form\" method = \"post\" <button></button></form>\n",
    "\"\"\"\n",
    "ans = re.findall(\"\\<(\\w[a-zA-z0-9]{4,100})\\>\",s)\n",
    "print(ans)"
   ]
  },
  {
   "cell_type": "code",
   "execution_count": 51,
   "metadata": {},
   "outputs": [
    {
     "name": "stdout",
     "output_type": "stream",
     "text": [
      "[[], [], ['transaction no: 75553942'], [], ['transaction no: 75551263'], ['transaction no: 46553942'], [], ['transaction no: 75554942']]\n"
     ]
    }
   ],
   "source": [
    "s = [\"js/prettify-full.en.js 4e6ee9163220\",\"js/moderator.en.js:\", \"transaction no: 75553942;\", \"\", \"transaction no: 75551263;\", \"transaction no: 46553942;\", \"c01c47765ca21b82b08b90403b4c7af3886098683e3869ad1:\", \"transaction no: 75554942;\"]\n",
    "lst = []\n",
    "for i in s:\n",
    "    ans = re.findall(\"(\\w[A-Za-z0-9]*\\s\\w[A-Za-z0-9]*: \\w[A-Za-z0-9:]*);\",i)\n",
    "    lst.append(ans)\n",
    "print(lst)"
   ]
  },
  {
   "cell_type": "code",
   "execution_count": null,
   "metadata": {},
   "outputs": [],
   "source": []
  }
 ],
 "metadata": {
  "kernelspec": {
   "display_name": "Python 3",
   "language": "python",
   "name": "python3"
  },
  "language_info": {
   "codemirror_mode": {
    "name": "ipython",
    "version": 3
   },
   "file_extension": ".py",
   "mimetype": "text/x-python",
   "name": "python",
   "nbconvert_exporter": "python",
   "pygments_lexer": "ipython3",
   "version": "3.8.3"
  }
 },
 "nbformat": 4,
 "nbformat_minor": 4
}
